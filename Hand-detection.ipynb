{
 "cells": [
  {
   "cell_type": "code",
   "execution_count": 1,
   "id": "219bbcc4-94a8-4dad-9da9-140f0df17b08",
   "metadata": {},
   "outputs": [],
   "source": [
    "import cv2 #It does webcam capture and drawing\n",
    "import mediapipe as mp #it is library for real tiime hand tracking\n",
    "from mediapipe import solutions\n",
    "from mediapipe.framework.formats import landmark_pb2 #we are using it for structure the data for drawing\n",
    "import numpy as np #we are using it for copying and manipulation of array\n",
    "\n",
    "MARGIN = 10  \n",
    "FONT_SIZE = 1\n",
    "FONT_THICKNESS = 1\n",
    "HANDEDNESS_TEXT_COLOR = (88, 205, 54) "
   ]
  },
  {
   "cell_type": "code",
   "execution_count": 2,
   "id": "ac77d440-adfc-4072-a949-2ace961231c1",
   "metadata": {},
   "outputs": [],
   "source": [
    "mp_hands = mp.solutions.hands\n",
    "mp_drawing = mp.solutions.drawing_utils\n",
    "mp_styles = mp.solutions.drawing_styles\n",
    "\n",
    "def draw_landmarks_on_image(rgb_image, hand_landmarks_list, handedness_list): # it takes a image and hand landmark from mediapipe\n",
    "    annotated_image = np.copy(rgb_image) #to copy the original image and preserve the original one\n",
    "    height, width, _ = annotated_image.shape\n",
    "\n",
    "    for idx in range(len(hand_landmarks_list)):\n",
    "        hand_landmarks = hand_landmarks_list[idx] # get current hand 21 landmark points\n",
    "        handedness = handedness_list[idx] #get label of current hand as left or right\n",
    "\n",
    "        hand_landmarks_proto = landmark_pb2.NormalizedLandmarkList()\n",
    "        hand_landmarks_proto.landmark.extend([\n",
    "            landmark_pb2.NormalizedLandmark(\n",
    "                x=landmark.x, y=landmark.y, z=landmark.z) for landmark in hand_landmarks.landmark\n",
    "        ])\n",
    "\n",
    "        mp_drawing.draw_landmarks(\n",
    "            annotated_image,\n",
    "            hand_landmarks_proto,\n",
    "            mp_hands.HAND_CONNECTIONS,\n",
    "            mp_styles.get_default_hand_landmarks_style(),\n",
    "            mp_styles.get_default_hand_connections_style())\n",
    "\n",
    "        x_coords = [landmark.x for landmark in hand_landmarks.landmark] # we are getting pixel coordinates \n",
    "        y_coords = [landmark.y for landmark in hand_landmarks.landmark]\n",
    "        text_x = int(min(x_coords) * width)\n",
    "        text_y = int(min(y_coords) * height) - MARGIN\n",
    "\n",
    "        label = handedness.classification[0].label  # 'Left' or 'Right'\n",
    "        cv2.putText(annotated_image, label, (text_x, text_y),\n",
    "                    cv2.FONT_HERSHEY_DUPLEX, FONT_SIZE, HANDEDNESS_TEXT_COLOR,\n",
    "                    FONT_THICKNESS, cv2.LINE_AA)\n",
    "\n",
    "    return annotated_image\n"
   ]
  },
  {
   "cell_type": "code",
   "execution_count": 5,
   "id": "cb8a1a1f-0cb5-4003-8a7d-9d08f5a20eac",
   "metadata": {},
   "outputs": [],
   "source": [
    "cap = cv2.VideoCapture(0) #initializing camera"
   ]
  },
  {
   "cell_type": "code",
   "execution_count": 6,
   "id": "4faa092a-a70a-47b4-9c26-dfa7c9a49019",
   "metadata": {},
   "outputs": [],
   "source": [
    "with mp_hands.Hands(\n",
    "    static_image_mode=False,\n",
    "    max_num_hands=2,\n",
    "    min_detection_confidence=0.5,\n",
    "    min_tracking_confidence=0.5) as hands: #opening webcam\n",
    "    fps = 20  # or use this fps = int(cap.get(cv2.CAP_PROP_FPS)) but as video in output was playing much fast so I mentioned fps\n",
    "    width = int(cap.get(cv2.CAP_PROP_FRAME_WIDTH))\n",
    "    height = int(cap.get(cv2.CAP_PROP_FRAME_HEIGHT))\n",
    "    frame_size = (width, height)\n",
    "    output_path = 'C:\\\\Users\\\\Balaji\\\\GITHUB-ML\\\\Palm-Detection\\\\output.mp4'\n",
    "    fourcc = cv2.VideoWriter_fourcc(*'mp4v')\n",
    "    out = cv2.VideoWriter(output_path, fourcc, fps, frame_size)\n",
    "    while cap.isOpened():          # so here we are in a loop which would last until we press esc\n",
    "        success, frame = cap.read()\n",
    "        if not success:\n",
    "            print(\"Ignoring empty camera frame.\")\n",
    "            continue\n",
    "\n",
    "        frame = cv2.flip(frame, 1) #mirroring your image for better understanding\n",
    "        rgb_frame = cv2.cvtColor(frame, cv2.COLOR_BGR2RGB) # convert opencv format to mediapipe format\n",
    "\n",
    "        results = hands.process(rgb_frame) #runs the model\n",
    "\n",
    "        if results.multi_hand_landmarks and results.multi_handedness:\n",
    "            frame = draw_landmarks_on_image(\n",
    "                frame, results.multi_hand_landmarks, results.multi_handedness)\n",
    "        out.write(frame)\n",
    "        cv2.imshow('Hand Detection', frame) #show updated frame in a window\n",
    "        if cv2.waitKey(1) & 0xFF == 27:  # ESC to exit\n",
    "            break\n",
    "\n",
    "cap.release()\n",
    "out.release() #to release output video\n",
    "cv2.destroyAllWindows()"
   ]
  },
  {
   "cell_type": "code",
   "execution_count": null,
   "id": "2430872b-ce84-468e-a97a-45bbb72ee8b3",
   "metadata": {},
   "outputs": [],
   "source": []
  }
 ],
 "metadata": {
  "kernelspec": {
   "display_name": "Python 3 (ipykernel)",
   "language": "python",
   "name": "python3"
  },
  "language_info": {
   "codemirror_mode": {
    "name": "ipython",
    "version": 3
   },
   "file_extension": ".py",
   "mimetype": "text/x-python",
   "name": "python",
   "nbconvert_exporter": "python",
   "pygments_lexer": "ipython3",
   "version": "3.10.0"
  }
 },
 "nbformat": 4,
 "nbformat_minor": 5
}
